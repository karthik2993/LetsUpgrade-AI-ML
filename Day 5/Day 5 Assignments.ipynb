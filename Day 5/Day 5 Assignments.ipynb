{
 "cells": [
  {
   "cell_type": "markdown",
   "metadata": {},
   "source": [
    "# Question 1 :\n",
    "Write a Python program to find the first 20 non-even prime natural numbers.\n"
   ]
  },
  {
   "cell_type": "code",
   "execution_count": 12,
   "metadata": {},
   "outputs": [
    {
     "name": "stdout",
     "output_type": "stream",
     "text": [
      "3 4 5 7 11 13 17 19 23 29 31 37 41 43 47 53 59 61 67 71 73 "
     ]
    }
   ],
   "source": [
    "lower = 3 \n",
    "upper = 75\n",
    "  \n",
    "for num in range(lower,upper + 1):  \n",
    "    if num > 1:  \n",
    "        for i in range(3,num):  \n",
    "            if (num % i == 0):\n",
    "                break  \n",
    "        else:  \n",
    "            print(num,end=\" \")  "
   ]
  },
  {
   "cell_type": "markdown",
   "metadata": {},
   "source": [
    "# Question 2 :\n",
    "Write a Python program to implement 15 functions of string."
   ]
  },
  {
   "cell_type": "code",
   "execution_count": 67,
   "metadata": {},
   "outputs": [
    {
     "name": "stdout",
     "output_type": "stream",
     "text": [
      "1.Capitalize function  - Lets Upgrade\n",
      "2.Count Function- 2\n",
      "3.find function - 5\n",
      "4.isalpha function- False\n",
      "5.isspace Function - False\n",
      "6.replace Function- start upgrade\n",
      "7.Upper Function- LETS UPGRADE\n",
      "8.Swapcase Function - lETS UPGRADE\n",
      "9.Split function - ['Lets', 'upgrade']\n",
      "10.Numeric Function - False\n",
      "11.Identifier Function - False\n",
      "12.Index 11\n",
      "13.lower function- lets upgrade\n",
      "14.Title function - Lets Upgrade\n",
      "15.digit Function- False\n"
     ]
    }
   ],
   "source": [
    "str = \"Lets upgrade\"\n",
    "\n",
    "print(\"1.Capitalize function  -\", str.title())             \n",
    "print(\"2.Count Function-\" ,str.count(\"e\",1,15))            \n",
    "print(\"3.find function -\",str.find(\"u\",1,15))              \n",
    "print(\"4.isalpha function-\",str.isalpha())                 \n",
    "print(\"5.isspace Function -\",str.isspace())                \n",
    "print(\"6.replace Function-\",str.replace(\"Lets\",\"start\",))  \n",
    "print(\"7.Upper Function-\",str.upper())                  \n",
    "print(\"8.Swapcase Function -\",str.swapcase())\n",
    "print(\"9.Split function -\",str.split())\n",
    "print(\"10.Numeric Function -\",str.isnumeric())\n",
    "print(\"11.Identifier Function -\",str.isidentifier())\n",
    "print(\"12.Index\",str.index(\"e\",3))\n",
    "print(\"13.lower function-\",str.lower())\n",
    "print(\"14.Title function -\",str.title())\n",
    "print(\"15.digit Function-\",str.isdigit())"
   ]
  },
  {
   "cell_type": "markdown",
   "metadata": {},
   "source": [
    "# Question 3:\n",
    "Write a Python program to check if the given string is a Palindrome or Anagram or None of them.\n",
    "Display the message accordingly to the user.\n"
   ]
  },
  {
   "cell_type": "code",
   "execution_count": 18,
   "metadata": {},
   "outputs": [
    {
     "name": "stdout",
     "output_type": "stream",
     "text": [
      "Enter a String:dad\n",
      "Entered string is Palindrome\n"
     ]
    }
   ],
   "source": [
    "str1=input(\"Enter a String:\")\n",
    "b=str1[::-1]\n",
    "count =0\n",
    "\n",
    "if (str1==str1[::-1]):\n",
    "    print(\"Entered string is Palindrome\")\n",
    "else:\n",
    "    for i in str1:\n",
    "        for j in b:\n",
    "            if i == j:\n",
    "                count=count+1\n",
    "    if count ==len(str1):\n",
    "        print(\"Entered String is Anagram\")\n",
    "    else:\n",
    "        print(\"Entered string Nor Anagram or Palindrome\")\n"
   ]
  },
  {
   "cell_type": "markdown",
   "metadata": {},
   "source": [
    "# Question 4:\n",
    "Write a Python's user defined function that removes all the additional characters from the string\n",
    "and converts it finally to lower case using built-in lower(). eg: If the string is \"Dr. Darshan Ingle\n",
    "@AI-ML Trainer\", then the output be \"drdarshaningleaimltrainer\"."
   ]
  },
  {
   "cell_type": "code",
   "execution_count": 15,
   "metadata": {},
   "outputs": [
    {
     "name": "stdout",
     "output_type": "stream",
     "text": [
      "Enter a String:KARTHIKMOGERA@GMAIL.COM LETSUPGRADE\n",
      "karthikmogeragmailcomletsupgrade\n"
     ]
    }
   ],
   "source": [
    "def remove(string):\n",
    "    return string.replace(\"_\",\"\").replace(\" \",\"\").replace(\".\",\"\").replace(\"@\",\"\")\n",
    "    \n",
    "string = input(\"Enter a String:\")\n",
    "print(remove(string.lower()))"
   ]
  }
 ],
 "metadata": {
  "kernelspec": {
   "display_name": "Python 3",
   "language": "python",
   "name": "python3"
  },
  "language_info": {
   "codemirror_mode": {
    "name": "ipython",
    "version": 3
   },
   "file_extension": ".py",
   "mimetype": "text/x-python",
   "name": "python",
   "nbconvert_exporter": "python",
   "pygments_lexer": "ipython3",
   "version": "3.7.6"
  }
 },
 "nbformat": 4,
 "nbformat_minor": 4
}
