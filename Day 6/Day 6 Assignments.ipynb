{
 "cells": [
  {
   "cell_type": "markdown",
   "metadata": {},
   "source": [
    "# Question 1:\n",
    "Assuming that we have some email addresses in the \"username@companyname.com\" format, please write program\n",
    "to print the company name of a given email address. Both user names and company names are composed of letters\n",
    "only.\n"
   ]
  },
  {
   "cell_type": "code",
   "execution_count": 3,
   "metadata": {},
   "outputs": [
    {
     "name": "stdout",
     "output_type": "stream",
     "text": [
      "Enter a email id:karthikmogera@crypto.com\n",
      "crypto\n"
     ]
    }
   ],
   "source": [
    "email= input(\"Enter a email id:\")\n",
    "x=email.split(\"@\")\n",
    "y=x[1].split(\".\")\n",
    "print(y[0])"
   ]
  },
  {
   "cell_type": "markdown",
   "metadata": {},
   "source": [
    "# Question 2:\n",
    "Write a program that accepts a comma-separated sequence of words as input and prints the words in a comma\n",
    "separated sequence after sorting them alphabetically."
   ]
  },
  {
   "cell_type": "code",
   "execution_count": 4,
   "metadata": {},
   "outputs": [
    {
     "name": "stdout",
     "output_type": "stream",
     "text": [
      "The sorted words are :\n",
      "bag,hello,without,world,\n"
     ]
    }
   ],
   "source": [
    "my_str =\"without,hello,bag,world\"\n",
    "new_str=\"\"\n",
    "words=my_str.split(\",\")#breakdown the sting into the list of words\n",
    "\n",
    "words.sort()\n",
    "print(\"The sorted words are :\")#display the sorted words\n",
    "\n",
    "for word in words:\n",
    "    new_str=new_str+word+\",\"\n",
    "\n",
    "print(new_str)"
   ]
  },
  {
   "cell_type": "markdown",
   "metadata": {},
   "source": [
    "# Question 3:\n",
    "Create your own Jupyter Notebook for Sets.\n",
    "Reference link: https://www.w3schools.com/python/python_sets.asp\n"
   ]
  },
  {
   "cell_type": "code",
   "execution_count": 15,
   "metadata": {},
   "outputs": [
    {
     "name": "stdout",
     "output_type": "stream",
     "text": [
      "banana\n",
      "cherry\n",
      "apple\n"
     ]
    }
   ],
   "source": [
    "Thisset={\"apple\",\"banana\",\"cherry\"}\n",
    "\n",
    "for i in Thisset:\n",
    "    print(i)"
   ]
  },
  {
   "cell_type": "markdown",
   "metadata": {},
   "source": [
    "# Question 4:\n",
    "Given a list of n-1 numbers ranging from 1 to n, your task is to find the missing number. There are no duplicates.\n"
   ]
  },
  {
   "cell_type": "code",
   "execution_count": 28,
   "metadata": {},
   "outputs": [
    {
     "name": "stdout",
     "output_type": "stream",
     "text": [
      "55.0\n",
      "48\n",
      "7.0\n"
     ]
    }
   ],
   "source": [
    "def MissingNumber(x):\n",
    "    n=len(x)\n",
    "    total=(n+1)*(n+2)/2\n",
    "    print(total)\n",
    "    Sum=sum(x)\n",
    "    print(Sum)\n",
    "    return total-Sum\n",
    "    \n",
    "    \n",
    "inp=[1,2,3,4,5,6,8,9,10] \n",
    "Numbermissed= MissingNumber(inp)\n",
    "print(Numbermissed)"
   ]
  },
  {
   "cell_type": "markdown",
   "metadata": {},
   "source": [
    "# Question 5:\n",
    "With a given list L, write a program to print this list L after removing all duplicate values with original order reserved.\n"
   ]
  },
  {
   "cell_type": "code",
   "execution_count": 29,
   "metadata": {},
   "outputs": [
    {
     "name": "stdout",
     "output_type": "stream",
     "text": [
      "[12, 24, 35, 88, 120, 155]\n"
     ]
    }
   ],
   "source": [
    "mylist=[12,24,35,24,88,120,155,88,120,155,88,120,155]\n",
    "mylist=list(dict.fromkeys(mylist))\n",
    "print(mylist)"
   ]
  }
 ],
 "metadata": {
  "kernelspec": {
   "display_name": "Python 3",
   "language": "python",
   "name": "python3"
  },
  "language_info": {
   "codemirror_mode": {
    "name": "ipython",
    "version": 3
   },
   "file_extension": ".py",
   "mimetype": "text/x-python",
   "name": "python",
   "nbconvert_exporter": "python",
   "pygments_lexer": "ipython3",
   "version": "3.7.6"
  }
 },
 "nbformat": 4,
 "nbformat_minor": 4
}
