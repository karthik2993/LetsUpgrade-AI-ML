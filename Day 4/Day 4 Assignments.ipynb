{
 "cells": [
  {
   "cell_type": "markdown",
   "metadata": {},
   "source": [
    "# Question 1 :\n",
    "Research on whether addition, subtraction, multiplication, division, floor division and modulo\n",
    "operations be performed on complex numbers. Based on your study, implement a Python\n",
    "program to demonstrate these operations.\n"
   ]
  },
  {
   "cell_type": "code",
   "execution_count": 8,
   "metadata": {},
   "outputs": [
    {
     "name": "stdout",
     "output_type": "stream",
     "text": [
      " Addition of complex Numbers is: (9+11j)\n",
      " Addition of complex Numbers is: (-1-1j)\n",
      " Addition of complex Numbers is: (-10+49j)\n",
      " Addition of complex Numbers is: (0.8196721311475409+0.01639344262295085j)\n"
     ]
    }
   ],
   "source": [
    "x = 4 + 5j\n",
    "y = 5 + 6j\n",
    "\n",
    "print (\" Addition of complex Numbers is:\",x+y)\n",
    "print (\" Addition of complex Numbers is:\",x-y)\n",
    "print (\" Addition of complex Numbers is:\",x*y)\n",
    "print (\" Addition of complex Numbers is:\",x/y)\n",
    "\n",
    "# Modulo and Floor division cannot be used for complex as this will give an error"
   ]
  },
  {
   "cell_type": "markdown",
   "metadata": {},
   "source": [
    "# Question 2 :\n",
    "Research on range() functions and its parameters. Create a markdown cell and write in your own\n",
    "words (no copy-paste from google please) what you understand about it. Implement a small\n",
    "program of your choice on the same.\n",
    "\n"
   ]
  },
  {
   "cell_type": "markdown",
   "metadata": {},
   "source": [
    "The Range can be declared in below three ways :\n",
    "1)range(10) --> This means range start point is 0 by default and it will end at (10-1)=9 so it will range from (0 to 9)\n",
    "2)range(1,10) --> In this range Function we have declared start point and end Point so it will range from (1,10-1)\n",
    "3)range(1,10,2)--> In this range function we have start point ,endpoint and step so in this, range will start from 1  and there will be difference of 2 between each numbers till endpoint in this manner 1,3,5,7,9"
   ]
  },
  {
   "cell_type": "code",
   "execution_count": 11,
   "metadata": {},
   "outputs": [
    {
     "name": "stdout",
     "output_type": "stream",
     "text": [
      "2 4 6 8 10 12 14 16 18 20 22 24 26 28 30 32 34 36 38 40 42 44 46 48 50 52 54 56 58 60 62 64 66 68 70 72 74 76 78 80 82 84 86 88 90 92 94 96 98 "
     ]
    }
   ],
   "source": [
    "for i in range(1,100):\n",
    "    if i % 2 == 0:\n",
    "        print(i,end=\" \")"
   ]
  },
  {
   "cell_type": "markdown",
   "metadata": {},
   "source": [
    "# Question 3:\n",
    " Consider two numbers. Perform their subtraction and if the result of subtraction is greater than\n",
    "25, print their multiplication result else print their division result.\n"
   ]
  },
  {
   "cell_type": "code",
   "execution_count": 5,
   "metadata": {},
   "outputs": [
    {
     "name": "stdout",
     "output_type": "stream",
     "text": [
      "The Number is Smaller than 25 so it will be Divide 1.3157894736842106\n"
     ]
    }
   ],
   "source": [
    "a = 100\n",
    "b = 76\n",
    "z = a-b\n",
    "\n",
    "if z >= 25:\n",
    "    print(\"The Number is Greater so it will be Multiplied \",a*b)\n",
    "else:\n",
    "    print(\"The Number is Smaller than 25 so it will be Divide\",a/b)"
   ]
  },
  {
   "cell_type": "markdown",
   "metadata": {},
   "source": [
    "# Question 4:\n",
    "Consider a list of 10 elements of integer values. If the number in the list is divisible by 2, print the\n",
    "result as \"square of that number minus 2\".\n"
   ]
  },
  {
   "cell_type": "code",
   "execution_count": 24,
   "metadata": {},
   "outputs": [
    {
     "name": "stdout",
     "output_type": "stream",
     "text": [
      "2\n",
      "14\n",
      "34\n",
      "62\n",
      "98\n"
     ]
    }
   ],
   "source": [
    "n = [1,2,3,4,5,6,7,8,9,10]\n",
    "\n",
    "for i in n:\n",
    "    if i % 2 ==0:\n",
    "        print((i ** 2)-2)"
   ]
  },
  {
   "cell_type": "markdown",
   "metadata": {},
   "source": [
    "# Question 5:\n",
    "Consider a list of 10 elements. Print all the elements in the list which are greater than 7 when that\n",
    "number is divided 2."
   ]
  },
  {
   "cell_type": "code",
   "execution_count": 3,
   "metadata": {},
   "outputs": [
    {
     "name": "stdout",
     "output_type": "stream",
     "text": [
      "14\n",
      "15\n",
      "16\n",
      "17\n",
      "18\n",
      "19\n",
      "20\n"
     ]
    }
   ],
   "source": [
    "y = [10,12,13,14,15,16,17,18,19,20]\n",
    "\n",
    "for n in y:\n",
    "    if n/2 >= 7:\n",
    "        print(n)"
   ]
  }
 ],
 "metadata": {
  "kernelspec": {
   "display_name": "Python 3",
   "language": "python",
   "name": "python3"
  },
  "language_info": {
   "codemirror_mode": {
    "name": "ipython",
    "version": 3
   },
   "file_extension": ".py",
   "mimetype": "text/x-python",
   "name": "python",
   "nbconvert_exporter": "python",
   "pygments_lexer": "ipython3",
   "version": "3.7.6"
  }
 },
 "nbformat": 4,
 "nbformat_minor": 4
}
